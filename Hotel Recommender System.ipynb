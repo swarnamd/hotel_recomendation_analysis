{
 "cells": [
  {
   "cell_type": "code",
   "execution_count": 90,
   "metadata": {},
   "outputs": [],
   "source": [
    "import numpy as np # linear algebra\n",
    "import pandas as pd # data processing, CSV file I/O (e.g. pd.read_csv)\n",
    "import matplotlib.pyplot as plt\n",
    "import seaborn as sns\n",
    "%matplotlib inline"
   ]
  },
  {
   "cell_type": "code",
   "execution_count": 91,
   "metadata": {},
   "outputs": [
    {
     "data": {
      "text/html": [
       "<div>\n",
       "<style scoped>\n",
       "    .dataframe tbody tr th:only-of-type {\n",
       "        vertical-align: middle;\n",
       "    }\n",
       "\n",
       "    .dataframe tbody tr th {\n",
       "        vertical-align: top;\n",
       "    }\n",
       "\n",
       "    .dataframe thead th {\n",
       "        text-align: right;\n",
       "    }\n",
       "</style>\n",
       "<table border=\"1\" class=\"dataframe\">\n",
       "  <thead>\n",
       "    <tr style=\"text-align: right;\">\n",
       "      <th></th>\n",
       "      <th>User_Id</th>\n",
       "      <th>Hotel_Id</th>\n",
       "      <th>Rating</th>\n",
       "      <th>Timestamp</th>\n",
       "    </tr>\n",
       "  </thead>\n",
       "  <tbody>\n",
       "    <tr>\n",
       "      <th>0</th>\n",
       "      <td>1</td>\n",
       "      <td>44</td>\n",
       "      <td>4.9</td>\n",
       "      <td>964982400</td>\n",
       "    </tr>\n",
       "    <tr>\n",
       "      <th>1</th>\n",
       "      <td>1</td>\n",
       "      <td>31</td>\n",
       "      <td>5.0</td>\n",
       "      <td>964982838</td>\n",
       "    </tr>\n",
       "    <tr>\n",
       "      <th>2</th>\n",
       "      <td>1</td>\n",
       "      <td>17</td>\n",
       "      <td>4.6</td>\n",
       "      <td>964982176</td>\n",
       "    </tr>\n",
       "    <tr>\n",
       "      <th>3</th>\n",
       "      <td>1</td>\n",
       "      <td>10</td>\n",
       "      <td>4.8</td>\n",
       "      <td>964984002</td>\n",
       "    </tr>\n",
       "    <tr>\n",
       "      <th>4</th>\n",
       "      <td>1</td>\n",
       "      <td>2</td>\n",
       "      <td>4.6</td>\n",
       "      <td>964982931</td>\n",
       "    </tr>\n",
       "  </tbody>\n",
       "</table>\n",
       "</div>"
      ],
      "text/plain": [
       "   User_Id  Hotel_Id  Rating  Timestamp\n",
       "0        1        44     4.9  964982400\n",
       "1        1        31     5.0  964982838\n",
       "2        1        17     4.6  964982176\n",
       "3        1        10     4.8  964984002\n",
       "4        1         2     4.6  964982931"
      ]
     },
     "execution_count": 91,
     "metadata": {},
     "output_type": "execute_result"
    }
   ],
   "source": [
    "ratings = pd.read_csv(r'/Users/ladee/Desktop/rating 2.csv')\n",
    "ratings.head(5)"
   ]
  },
  {
   "cell_type": "code",
   "execution_count": 92,
   "metadata": {},
   "outputs": [
    {
     "data": {
      "text/plain": [
       "(95, 4)"
      ]
     },
     "execution_count": 92,
     "metadata": {},
     "output_type": "execute_result"
    }
   ],
   "source": [
    "ratings.shape"
   ]
  },
  {
   "cell_type": "code",
   "execution_count": 93,
   "metadata": {},
   "outputs": [
    {
     "data": {
      "text/html": [
       "<div>\n",
       "<style scoped>\n",
       "    .dataframe tbody tr th:only-of-type {\n",
       "        vertical-align: middle;\n",
       "    }\n",
       "\n",
       "    .dataframe tbody tr th {\n",
       "        vertical-align: top;\n",
       "    }\n",
       "\n",
       "    .dataframe thead th {\n",
       "        text-align: right;\n",
       "    }\n",
       "</style>\n",
       "<table border=\"1\" class=\"dataframe\">\n",
       "  <thead>\n",
       "    <tr style=\"text-align: right;\">\n",
       "      <th></th>\n",
       "      <th>Hotel_Id</th>\n",
       "      <th>Hotel_name</th>\n",
       "      <th>Category</th>\n",
       "      <th>Hotel_location</th>\n",
       "    </tr>\n",
       "  </thead>\n",
       "  <tbody>\n",
       "    <tr>\n",
       "      <th>0</th>\n",
       "      <td>1</td>\n",
       "      <td>Warwick San Fracisco</td>\n",
       "      <td>Pet Friendly|Breakfast</td>\n",
       "      <td>San Francisco</td>\n",
       "    </tr>\n",
       "    <tr>\n",
       "      <th>1</th>\n",
       "      <td>2</td>\n",
       "      <td>The Ritz Calton San Francisco</td>\n",
       "      <td>Vallet|Breakfast|Downtown|Pool|Pet Friendly</td>\n",
       "      <td>San Francisco</td>\n",
       "    </tr>\n",
       "    <tr>\n",
       "      <th>2</th>\n",
       "      <td>3</td>\n",
       "      <td>The Orchard Hotel</td>\n",
       "      <td>Vallet Parking| Pet Friendly</td>\n",
       "      <td>San Francisco</td>\n",
       "    </tr>\n",
       "    <tr>\n",
       "      <th>3</th>\n",
       "      <td>4</td>\n",
       "      <td>The Marker San Fracisco</td>\n",
       "      <td>Pet Friendly|Breakfast|Pool</td>\n",
       "      <td>San Francisco</td>\n",
       "    </tr>\n",
       "    <tr>\n",
       "      <th>4</th>\n",
       "      <td>5</td>\n",
       "      <td>The Kensington Park Hotel</td>\n",
       "      <td>Pool|Free WiFI</td>\n",
       "      <td>San Francisco</td>\n",
       "    </tr>\n",
       "  </tbody>\n",
       "</table>\n",
       "</div>"
      ],
      "text/plain": [
       "   Hotel_Id                     Hotel_name  \\\n",
       "0         1           Warwick San Fracisco   \n",
       "1         2  The Ritz Calton San Francisco   \n",
       "2         3              The Orchard Hotel   \n",
       "3         4        The Marker San Fracisco   \n",
       "4         5      The Kensington Park Hotel   \n",
       "\n",
       "                                      Category Hotel_location  \n",
       "0                       Pet Friendly|Breakfast  San Francisco  \n",
       "1  Vallet|Breakfast|Downtown|Pool|Pet Friendly  San Francisco  \n",
       "2                Vallet Parking| Pet Friendly   San Francisco  \n",
       "3                  Pet Friendly|Breakfast|Pool  San Francisco  \n",
       "4                               Pool|Free WiFI  San Francisco  "
      ]
     },
     "execution_count": 93,
     "metadata": {},
     "output_type": "execute_result"
    }
   ],
   "source": [
    "hotels=pd.read_csv(r'/Users/ladee/Desktop/hotels 2.csv')\n",
    "hotels.head(5)"
   ]
  },
  {
   "cell_type": "markdown",
   "metadata": {},
   "source": [
    "# Merging Ratings & Hotels Dataset"
   ]
  },
  {
   "cell_type": "code",
   "execution_count": 94,
   "metadata": {},
   "outputs": [
    {
     "data": {
      "text/html": [
       "<div>\n",
       "<style scoped>\n",
       "    .dataframe tbody tr th:only-of-type {\n",
       "        vertical-align: middle;\n",
       "    }\n",
       "\n",
       "    .dataframe tbody tr th {\n",
       "        vertical-align: top;\n",
       "    }\n",
       "\n",
       "    .dataframe thead th {\n",
       "        text-align: right;\n",
       "    }\n",
       "</style>\n",
       "<table border=\"1\" class=\"dataframe\">\n",
       "  <thead>\n",
       "    <tr style=\"text-align: right;\">\n",
       "      <th></th>\n",
       "      <th>Hotel_Id</th>\n",
       "      <th>Hotel_name</th>\n",
       "      <th>Category</th>\n",
       "      <th>Hotel_location</th>\n",
       "      <th>User_Id</th>\n",
       "      <th>Rating</th>\n",
       "      <th>Timestamp</th>\n",
       "    </tr>\n",
       "  </thead>\n",
       "  <tbody>\n",
       "    <tr>\n",
       "      <th>0</th>\n",
       "      <td>1</td>\n",
       "      <td>Warwick San Fracisco</td>\n",
       "      <td>Pet Friendly|Breakfast</td>\n",
       "      <td>San Francisco</td>\n",
       "      <td>2</td>\n",
       "      <td>3.0</td>\n",
       "      <td>964982563</td>\n",
       "    </tr>\n",
       "    <tr>\n",
       "      <th>1</th>\n",
       "      <td>1</td>\n",
       "      <td>Warwick San Fracisco</td>\n",
       "      <td>Pet Friendly|Breakfast</td>\n",
       "      <td>San Francisco</td>\n",
       "      <td>4</td>\n",
       "      <td>3.0</td>\n",
       "      <td>964984086</td>\n",
       "    </tr>\n",
       "    <tr>\n",
       "      <th>2</th>\n",
       "      <td>2</td>\n",
       "      <td>The Ritz Calton San Francisco</td>\n",
       "      <td>Vallet|Breakfast|Downtown|Pool|Pet Friendly</td>\n",
       "      <td>San Francisco</td>\n",
       "      <td>1</td>\n",
       "      <td>4.6</td>\n",
       "      <td>964982931</td>\n",
       "    </tr>\n",
       "    <tr>\n",
       "      <th>3</th>\n",
       "      <td>2</td>\n",
       "      <td>The Ritz Calton San Francisco</td>\n",
       "      <td>Vallet|Breakfast|Downtown|Pool|Pet Friendly</td>\n",
       "      <td>San Francisco</td>\n",
       "      <td>2</td>\n",
       "      <td>4.0</td>\n",
       "      <td>964982653</td>\n",
       "    </tr>\n",
       "    <tr>\n",
       "      <th>4</th>\n",
       "      <td>2</td>\n",
       "      <td>The Ritz Calton San Francisco</td>\n",
       "      <td>Vallet|Breakfast|Downtown|Pool|Pet Friendly</td>\n",
       "      <td>San Francisco</td>\n",
       "      <td>3</td>\n",
       "      <td>4.9</td>\n",
       "      <td>964981179</td>\n",
       "    </tr>\n",
       "    <tr>\n",
       "      <th>5</th>\n",
       "      <td>2</td>\n",
       "      <td>The Ritz Calton San Francisco</td>\n",
       "      <td>Vallet|Breakfast|Downtown|Pool|Pet Friendly</td>\n",
       "      <td>San Francisco</td>\n",
       "      <td>4</td>\n",
       "      <td>4.0</td>\n",
       "      <td>964981710</td>\n",
       "    </tr>\n",
       "    <tr>\n",
       "      <th>6</th>\n",
       "      <td>2</td>\n",
       "      <td>The Ritz Calton San Francisco</td>\n",
       "      <td>Vallet|Breakfast|Downtown|Pool|Pet Friendly</td>\n",
       "      <td>San Francisco</td>\n",
       "      <td>5</td>\n",
       "      <td>4.3</td>\n",
       "      <td>964981529</td>\n",
       "    </tr>\n",
       "    <tr>\n",
       "      <th>7</th>\n",
       "      <td>2</td>\n",
       "      <td>The Ritz Calton San Francisco</td>\n",
       "      <td>Vallet|Breakfast|Downtown|Pool|Pet Friendly</td>\n",
       "      <td>San Francisco</td>\n",
       "      <td>7</td>\n",
       "      <td>4.6</td>\n",
       "      <td>964982176</td>\n",
       "    </tr>\n",
       "    <tr>\n",
       "      <th>8</th>\n",
       "      <td>2</td>\n",
       "      <td>The Ritz Calton San Francisco</td>\n",
       "      <td>Vallet|Breakfast|Downtown|Pool|Pet Friendly</td>\n",
       "      <td>San Francisco</td>\n",
       "      <td>9</td>\n",
       "      <td>4.0</td>\n",
       "      <td>964981179</td>\n",
       "    </tr>\n",
       "    <tr>\n",
       "      <th>9</th>\n",
       "      <td>3</td>\n",
       "      <td>The Orchard Hotel</td>\n",
       "      <td>Vallet Parking| Pet Friendly</td>\n",
       "      <td>San Francisco</td>\n",
       "      <td>2</td>\n",
       "      <td>5.0</td>\n",
       "      <td>964981909</td>\n",
       "    </tr>\n",
       "    <tr>\n",
       "      <th>10</th>\n",
       "      <td>3</td>\n",
       "      <td>The Orchard Hotel</td>\n",
       "      <td>Vallet Parking| Pet Friendly</td>\n",
       "      <td>San Francisco</td>\n",
       "      <td>4</td>\n",
       "      <td>3.0</td>\n",
       "      <td>964980985</td>\n",
       "    </tr>\n",
       "    <tr>\n",
       "      <th>11</th>\n",
       "      <td>6</td>\n",
       "      <td>The Inn at Union Square- A Greystone Hotel</td>\n",
       "      <td>Free WiFi|Pet Friendly</td>\n",
       "      <td>San Francisco</td>\n",
       "      <td>1</td>\n",
       "      <td>4.0</td>\n",
       "      <td>964982563</td>\n",
       "    </tr>\n",
       "    <tr>\n",
       "      <th>12</th>\n",
       "      <td>7</td>\n",
       "      <td>Taj Campton Place</td>\n",
       "      <td>Pet Friendly|Breakfast|Pool</td>\n",
       "      <td>San Francisco</td>\n",
       "      <td>2</td>\n",
       "      <td>4.0</td>\n",
       "      <td>964980868</td>\n",
       "    </tr>\n",
       "    <tr>\n",
       "      <th>13</th>\n",
       "      <td>8</td>\n",
       "      <td>Seaside Inn</td>\n",
       "      <td>Pet Friendly|Breakfast</td>\n",
       "      <td>San Francisco</td>\n",
       "      <td>2</td>\n",
       "      <td>4.0</td>\n",
       "      <td>964982271</td>\n",
       "    </tr>\n",
       "    <tr>\n",
       "      <th>14</th>\n",
       "      <td>9</td>\n",
       "      <td>San Remo Hotel</td>\n",
       "      <td>Free parking|Breakfast</td>\n",
       "      <td>San Francisco</td>\n",
       "      <td>2</td>\n",
       "      <td>5.0</td>\n",
       "      <td>964983815</td>\n",
       "    </tr>\n",
       "  </tbody>\n",
       "</table>\n",
       "</div>"
      ],
      "text/plain": [
       "    Hotel_Id                                  Hotel_name  \\\n",
       "0          1                        Warwick San Fracisco   \n",
       "1          1                        Warwick San Fracisco   \n",
       "2          2               The Ritz Calton San Francisco   \n",
       "3          2               The Ritz Calton San Francisco   \n",
       "4          2               The Ritz Calton San Francisco   \n",
       "5          2               The Ritz Calton San Francisco   \n",
       "6          2               The Ritz Calton San Francisco   \n",
       "7          2               The Ritz Calton San Francisco   \n",
       "8          2               The Ritz Calton San Francisco   \n",
       "9          3                           The Orchard Hotel   \n",
       "10         3                           The Orchard Hotel   \n",
       "11         6  The Inn at Union Square- A Greystone Hotel   \n",
       "12         7                           Taj Campton Place   \n",
       "13         8                                 Seaside Inn   \n",
       "14         9                              San Remo Hotel   \n",
       "\n",
       "                                       Category Hotel_location  User_Id  \\\n",
       "0                        Pet Friendly|Breakfast  San Francisco        2   \n",
       "1                        Pet Friendly|Breakfast  San Francisco        4   \n",
       "2   Vallet|Breakfast|Downtown|Pool|Pet Friendly  San Francisco        1   \n",
       "3   Vallet|Breakfast|Downtown|Pool|Pet Friendly  San Francisco        2   \n",
       "4   Vallet|Breakfast|Downtown|Pool|Pet Friendly  San Francisco        3   \n",
       "5   Vallet|Breakfast|Downtown|Pool|Pet Friendly  San Francisco        4   \n",
       "6   Vallet|Breakfast|Downtown|Pool|Pet Friendly  San Francisco        5   \n",
       "7   Vallet|Breakfast|Downtown|Pool|Pet Friendly  San Francisco        7   \n",
       "8   Vallet|Breakfast|Downtown|Pool|Pet Friendly  San Francisco        9   \n",
       "9                 Vallet Parking| Pet Friendly   San Francisco        2   \n",
       "10                Vallet Parking| Pet Friendly   San Francisco        4   \n",
       "11                       Free WiFi|Pet Friendly  San Francisco        1   \n",
       "12                  Pet Friendly|Breakfast|Pool  San Francisco        2   \n",
       "13                       Pet Friendly|Breakfast  San Francisco        2   \n",
       "14                       Free parking|Breakfast  San Francisco        2   \n",
       "\n",
       "    Rating  Timestamp  \n",
       "0      3.0  964982563  \n",
       "1      3.0  964984086  \n",
       "2      4.6  964982931  \n",
       "3      4.0  964982653  \n",
       "4      4.9  964981179  \n",
       "5      4.0  964981710  \n",
       "6      4.3  964981529  \n",
       "7      4.6  964982176  \n",
       "8      4.0  964981179  \n",
       "9      5.0  964981909  \n",
       "10     3.0  964980985  \n",
       "11     4.0  964982563  \n",
       "12     4.0  964980868  \n",
       "13     4.0  964982271  \n",
       "14     5.0  964983815  "
      ]
     },
     "execution_count": 94,
     "metadata": {},
     "output_type": "execute_result"
    }
   ],
   "source": [
    "hotels_ratings = pd.merge(hotels, ratings)\n",
    "hotels_ratings.head(15)"
   ]
  },
  {
   "cell_type": "code",
   "execution_count": 95,
   "metadata": {},
   "outputs": [
    {
     "data": {
      "text/plain": [
       "Hotel_name\n",
       "1851 INN ON ST CHARLES              3.0\n",
       "A CREOLE COTTAGE                    5.0\n",
       "ANTEBELLUM GUEST HOUSE              3.0\n",
       "AULD SWEET OLIVE                    3.0\n",
       "BIENVILLE HOUSE MOTOR HOTEL         5.0\n",
       "Cow Hollow Inn and Suites           5.0\n",
       "DAYS INN                            5.0\n",
       "FEDERAL CITY INN & SUITES           5.0\n",
       "FRENCHMEN STREET BED & BREAKFAST    5.0\n",
       "Fairmont San Fracisco               5.0\n",
       "Name: Rating, dtype: float64"
      ]
     },
     "execution_count": 95,
     "metadata": {},
     "output_type": "execute_result"
    }
   ],
   "source": [
    "hotels_ratings.groupby('Hotel_name')['Rating'].mean().head(10)  "
   ]
  },
  {
   "cell_type": "markdown",
   "metadata": {},
   "source": [
    "# Ratings in the descending order of their average rating"
   ]
  },
  {
   "cell_type": "code",
   "execution_count": 96,
   "metadata": {},
   "outputs": [
    {
     "data": {
      "text/plain": [
       "Hotel_name\n",
       "MOTEL 6                                   5.0\n",
       "STUDIO 6 #6000                            5.0\n",
       "FRENCHMEN STREET BED & BREAKFAST          5.0\n",
       "Harbor Court Hotel                        5.0\n",
       "Holiday Inn                               5.0\n",
       "FEDERAL CITY INN & SUITES                 5.0\n",
       "Hotel Drisco Pacific Heights              5.0\n",
       "JW Marriott San Francisco Union Square    5.0\n",
       "KERLEREC HOUSE                            5.0\n",
       "DAYS INN                                  5.0\n",
       "Name: Rating, dtype: float64"
      ]
     },
     "execution_count": 96,
     "metadata": {},
     "output_type": "execute_result"
    }
   ],
   "source": [
    "hotels_ratings.groupby('Hotel_name')['Rating'].mean().sort_values(ascending=False).head(10) "
   ]
  },
  {
   "cell_type": "markdown",
   "metadata": {},
   "source": [
    "# Let's now plot the total number of ratings for a hotel"
   ]
  },
  {
   "cell_type": "code",
   "execution_count": 97,
   "metadata": {},
   "outputs": [
    {
     "data": {
      "text/plain": [
       "Hotel_name\n",
       "The Ritz Calton San Francisco       7\n",
       "Omni San Francisco Hotel            7\n",
       "Four Seasons Hotel San Francisco    5\n",
       "Hotel Sepro                         5\n",
       "San Francisco Marriott Marquis      5\n",
       "Name: Rating, dtype: int64"
      ]
     },
     "execution_count": 97,
     "metadata": {},
     "output_type": "execute_result"
    }
   ],
   "source": [
    "hotels_ratings.groupby('Hotel_name')['Rating'].count().sort_values(ascending=False).head() "
   ]
  },
  {
   "cell_type": "code",
   "execution_count": 98,
   "metadata": {},
   "outputs": [],
   "source": [
    "ratings_mean_count = pd.DataFrame(hotels_ratings.groupby('Hotel_name')['Rating'].mean())  "
   ]
  },
  {
   "cell_type": "code",
   "execution_count": 99,
   "metadata": {},
   "outputs": [],
   "source": [
    "ratings_mean_count['rating_counts'] = pd.DataFrame(hotels_ratings.groupby('Hotel_name')['Rating'].count())  "
   ]
  },
  {
   "cell_type": "code",
   "execution_count": 100,
   "metadata": {},
   "outputs": [
    {
     "data": {
      "text/plain": [
       "Hotel_name\n",
       "Warwick San Fracisco               1\n",
       "HAMPTON INN - ST. CHARLES          1\n",
       "Kimpton Sir Francis Drake Hotel    1\n",
       "Kimpton Buchanan                   1\n",
       "KERLEREC HOUSE                     1\n",
       "Name: Rating, dtype: int64"
      ]
     },
     "execution_count": 100,
     "metadata": {},
     "output_type": "execute_result"
    }
   ],
   "source": [
    "ratings_mean_count.groupby('Hotel_name')['Rating'].count().sort_values(ascending=False).head() "
   ]
  },
  {
   "cell_type": "code",
   "execution_count": 101,
   "metadata": {},
   "outputs": [
    {
     "data": {
      "text/html": [
       "<div>\n",
       "<style scoped>\n",
       "    .dataframe tbody tr th:only-of-type {\n",
       "        vertical-align: middle;\n",
       "    }\n",
       "\n",
       "    .dataframe tbody tr th {\n",
       "        vertical-align: top;\n",
       "    }\n",
       "\n",
       "    .dataframe thead th {\n",
       "        text-align: right;\n",
       "    }\n",
       "</style>\n",
       "<table border=\"1\" class=\"dataframe\">\n",
       "  <thead>\n",
       "    <tr style=\"text-align: right;\">\n",
       "      <th></th>\n",
       "      <th>Rating</th>\n",
       "      <th>rating_counts</th>\n",
       "    </tr>\n",
       "    <tr>\n",
       "      <th>Hotel_name</th>\n",
       "      <th></th>\n",
       "      <th></th>\n",
       "    </tr>\n",
       "  </thead>\n",
       "  <tbody>\n",
       "    <tr>\n",
       "      <th>1851 INN ON ST CHARLES</th>\n",
       "      <td>3.0</td>\n",
       "      <td>1</td>\n",
       "    </tr>\n",
       "    <tr>\n",
       "      <th>A CREOLE COTTAGE</th>\n",
       "      <td>5.0</td>\n",
       "      <td>1</td>\n",
       "    </tr>\n",
       "    <tr>\n",
       "      <th>ANTEBELLUM GUEST HOUSE</th>\n",
       "      <td>3.0</td>\n",
       "      <td>1</td>\n",
       "    </tr>\n",
       "    <tr>\n",
       "      <th>AULD SWEET OLIVE</th>\n",
       "      <td>3.0</td>\n",
       "      <td>1</td>\n",
       "    </tr>\n",
       "    <tr>\n",
       "      <th>BIENVILLE HOUSE MOTOR HOTEL</th>\n",
       "      <td>5.0</td>\n",
       "      <td>1</td>\n",
       "    </tr>\n",
       "  </tbody>\n",
       "</table>\n",
       "</div>"
      ],
      "text/plain": [
       "                             Rating  rating_counts\n",
       "Hotel_name                                        \n",
       "1851 INN ON ST CHARLES          3.0              1\n",
       "A CREOLE COTTAGE                5.0              1\n",
       "ANTEBELLUM GUEST HOUSE          3.0              1\n",
       "AULD SWEET OLIVE                3.0              1\n",
       "BIENVILLE HOUSE MOTOR HOTEL     5.0              1"
      ]
     },
     "execution_count": 101,
     "metadata": {},
     "output_type": "execute_result"
    }
   ],
   "source": [
    "ratings_mean_count.head()  "
   ]
  },
  {
   "cell_type": "markdown",
   "metadata": {},
   "source": [
    "# Let's plot a histogram for the number of ratings represented by the \"rating_counts\" column in the above dataframe. Execute the following script:"
   ]
  },
  {
   "cell_type": "code",
   "execution_count": 102,
   "metadata": {},
   "outputs": [
    {
     "data": {
      "text/plain": [
       "<matplotlib.axes._subplots.AxesSubplot at 0x1a1a1b9710>"
      ]
     },
     "execution_count": 102,
     "metadata": {},
     "output_type": "execute_result"
    },
    {
     "data": {
      "image/png": "[encoded data removed]",
      "text/plain": [
       "<Figure size 576x432 with 1 Axes>"
      ]
     },
     "metadata": {
      "needs_background": "light"
     },
     "output_type": "display_data"
    }
   ],
   "source": [
    "import matplotlib.pyplot as plt  \n",
    "import seaborn as sns  \n",
    "sns.set_style('dark')  \n",
    "%matplotlib inline\n",
    "\n",
    "plt.figure(figsize=(8,6))  \n",
    "plt.rcParams['patch.force_edgecolor'] = True  \n",
    "ratings_mean_count['rating_counts'].hist(bins=50)  \n",
    "\n"
   ]
  },
  {
   "cell_type": "markdown",
   "metadata": {},
   "source": [
    "# Now we'll plot a histogram for average ratings. Here is the code to do so:"
   ]
  },
  {
   "cell_type": "code",
   "execution_count": 103,
   "metadata": {},
   "outputs": [
    {
     "data": {
      "text/plain": [
       "<matplotlib.axes._subplots.AxesSubplot at 0x1a1a31ab00>"
      ]
     },
     "execution_count": 103,
     "metadata": {},
     "output_type": "execute_result"
    },
    {
     "data": {
      "image/png": "[encoded data removed]",
      "text/plain": [
       "<Figure size 576x432 with 1 Axes>"
      ]
     },
     "metadata": {
      "needs_background": "light"
     },
     "output_type": "display_data"
    }
   ],
   "source": [
    "plt.figure(figsize=(8,6))  \n",
    "plt.rcParams['patch.force_edgecolor'] = True  \n",
    "ratings_mean_count['Rating'].hist(bins=50)"
   ]
  },
  {
   "cell_type": "code",
   "execution_count": 104,
   "metadata": {},
   "outputs": [
    {
     "data": {
      "text/plain": [
       "<seaborn.axisgrid.JointGrid at 0x1a1a44fb38>"
      ]
     },
     "execution_count": 104,
     "metadata": {},
     "output_type": "execute_result"
    },
    {
     "data": {
      "text/plain": [
       "<Figure size 576x432 with 0 Axes>"
      ]
     },
     "metadata": {},
     "output_type": "display_data"
    },
    {
     "data": {
      "image/png": "[encoded data removed]",
      "text/plain": [
       "<Figure size 432x432 with 3 Axes>"
      ]
     },
     "metadata": {
      "needs_background": "light"
     },
     "output_type": "display_data"
    }
   ],
   "source": [
    "plt.figure(figsize=(8,6))  \n",
    "plt.rcParams['patch.force_edgecolor'] = True  \n",
    "sns.jointplot(x='Rating', y='rating_counts', data=ratings_mean_count, alpha=0.4)  "
   ]
  },
  {
   "cell_type": "markdown",
   "metadata": {},
   "source": [
    "# Finding Similarities Between Hotels"
   ]
  },
  {
   "cell_type": "code",
   "execution_count": 105,
   "metadata": {},
   "outputs": [],
   "source": [
    "user_hotel_rating = hotels_ratings.pivot_table(index='User_Id', columns='Hotel_name', values='Rating') "
   ]
  },
  {
   "cell_type": "code",
   "execution_count": 106,
   "metadata": {},
   "outputs": [
    {
     "data": {
      "text/html": [
       "<div>\n",
       "<style scoped>\n",
       "    .dataframe tbody tr th:only-of-type {\n",
       "        vertical-align: middle;\n",
       "    }\n",
       "\n",
       "    .dataframe tbody tr th {\n",
       "        vertical-align: top;\n",
       "    }\n",
       "\n",
       "    .dataframe thead th {\n",
       "        text-align: right;\n",
       "    }\n",
       "</style>\n",
       "<table border=\"1\" class=\"dataframe\">\n",
       "  <thead>\n",
       "    <tr style=\"text-align: right;\">\n",
       "      <th>Hotel_name</th>\n",
       "      <th>1851 INN ON ST CHARLES</th>\n",
       "      <th>A CREOLE COTTAGE</th>\n",
       "      <th>ANTEBELLUM GUEST HOUSE</th>\n",
       "      <th>AULD SWEET OLIVE</th>\n",
       "      <th>BIENVILLE HOUSE MOTOR HOTEL</th>\n",
       "      <th>Cow Hollow Inn and Suites</th>\n",
       "      <th>DAYS INN</th>\n",
       "      <th>FEDERAL CITY INN &amp; SUITES</th>\n",
       "      <th>FRENCHMEN STREET BED &amp; BREAKFAST</th>\n",
       "      <th>Fairmont San Fracisco</th>\n",
       "      <th>...</th>\n",
       "      <th>THE QUEEN ANNE HOTEL</th>\n",
       "      <th>THE ROOSEVELT HOTEL WAC</th>\n",
       "      <th>THE TREME INN</th>\n",
       "      <th>TIRC HOTEL</th>\n",
       "      <th>Taj Campton Place</th>\n",
       "      <th>The Inn at Union Square- A Greystone Hotel</th>\n",
       "      <th>The Orchard Hotel</th>\n",
       "      <th>The Ritz Calton San Francisco</th>\n",
       "      <th>WYNDHAM NEW ORLEANS</th>\n",
       "      <th>Warwick San Fracisco</th>\n",
       "    </tr>\n",
       "    <tr>\n",
       "      <th>User_Id</th>\n",
       "      <th></th>\n",
       "      <th></th>\n",
       "      <th></th>\n",
       "      <th></th>\n",
       "      <th></th>\n",
       "      <th></th>\n",
       "      <th></th>\n",
       "      <th></th>\n",
       "      <th></th>\n",
       "      <th></th>\n",
       "      <th></th>\n",
       "      <th></th>\n",
       "      <th></th>\n",
       "      <th></th>\n",
       "      <th></th>\n",
       "      <th></th>\n",
       "      <th></th>\n",
       "      <th></th>\n",
       "      <th></th>\n",
       "      <th></th>\n",
       "      <th></th>\n",
       "    </tr>\n",
       "  </thead>\n",
       "  <tbody>\n",
       "    <tr>\n",
       "      <th>1</th>\n",
       "      <td>NaN</td>\n",
       "      <td>NaN</td>\n",
       "      <td>NaN</td>\n",
       "      <td>NaN</td>\n",
       "      <td>NaN</td>\n",
       "      <td>NaN</td>\n",
       "      <td>NaN</td>\n",
       "      <td>NaN</td>\n",
       "      <td>NaN</td>\n",
       "      <td>NaN</td>\n",
       "      <td>...</td>\n",
       "      <td>NaN</td>\n",
       "      <td>NaN</td>\n",
       "      <td>NaN</td>\n",
       "      <td>NaN</td>\n",
       "      <td>NaN</td>\n",
       "      <td>4.0</td>\n",
       "      <td>NaN</td>\n",
       "      <td>4.6</td>\n",
       "      <td>NaN</td>\n",
       "      <td>NaN</td>\n",
       "    </tr>\n",
       "    <tr>\n",
       "      <th>2</th>\n",
       "      <td>NaN</td>\n",
       "      <td>NaN</td>\n",
       "      <td>NaN</td>\n",
       "      <td>NaN</td>\n",
       "      <td>NaN</td>\n",
       "      <td>NaN</td>\n",
       "      <td>NaN</td>\n",
       "      <td>NaN</td>\n",
       "      <td>NaN</td>\n",
       "      <td>NaN</td>\n",
       "      <td>...</td>\n",
       "      <td>NaN</td>\n",
       "      <td>NaN</td>\n",
       "      <td>NaN</td>\n",
       "      <td>NaN</td>\n",
       "      <td>4.0</td>\n",
       "      <td>NaN</td>\n",
       "      <td>5.0</td>\n",
       "      <td>4.0</td>\n",
       "      <td>NaN</td>\n",
       "      <td>3.0</td>\n",
       "    </tr>\n",
       "    <tr>\n",
       "      <th>3</th>\n",
       "      <td>NaN</td>\n",
       "      <td>NaN</td>\n",
       "      <td>NaN</td>\n",
       "      <td>NaN</td>\n",
       "      <td>NaN</td>\n",
       "      <td>NaN</td>\n",
       "      <td>NaN</td>\n",
       "      <td>NaN</td>\n",
       "      <td>NaN</td>\n",
       "      <td>NaN</td>\n",
       "      <td>...</td>\n",
       "      <td>NaN</td>\n",
       "      <td>NaN</td>\n",
       "      <td>NaN</td>\n",
       "      <td>NaN</td>\n",
       "      <td>NaN</td>\n",
       "      <td>NaN</td>\n",
       "      <td>NaN</td>\n",
       "      <td>4.9</td>\n",
       "      <td>NaN</td>\n",
       "      <td>NaN</td>\n",
       "    </tr>\n",
       "    <tr>\n",
       "      <th>4</th>\n",
       "      <td>NaN</td>\n",
       "      <td>NaN</td>\n",
       "      <td>NaN</td>\n",
       "      <td>NaN</td>\n",
       "      <td>NaN</td>\n",
       "      <td>NaN</td>\n",
       "      <td>NaN</td>\n",
       "      <td>NaN</td>\n",
       "      <td>NaN</td>\n",
       "      <td>NaN</td>\n",
       "      <td>...</td>\n",
       "      <td>NaN</td>\n",
       "      <td>NaN</td>\n",
       "      <td>NaN</td>\n",
       "      <td>NaN</td>\n",
       "      <td>NaN</td>\n",
       "      <td>NaN</td>\n",
       "      <td>3.0</td>\n",
       "      <td>4.0</td>\n",
       "      <td>NaN</td>\n",
       "      <td>3.0</td>\n",
       "    </tr>\n",
       "    <tr>\n",
       "      <th>5</th>\n",
       "      <td>NaN</td>\n",
       "      <td>NaN</td>\n",
       "      <td>NaN</td>\n",
       "      <td>NaN</td>\n",
       "      <td>NaN</td>\n",
       "      <td>NaN</td>\n",
       "      <td>NaN</td>\n",
       "      <td>NaN</td>\n",
       "      <td>NaN</td>\n",
       "      <td>NaN</td>\n",
       "      <td>...</td>\n",
       "      <td>NaN</td>\n",
       "      <td>NaN</td>\n",
       "      <td>NaN</td>\n",
       "      <td>NaN</td>\n",
       "      <td>NaN</td>\n",
       "      <td>NaN</td>\n",
       "      <td>NaN</td>\n",
       "      <td>4.3</td>\n",
       "      <td>NaN</td>\n",
       "      <td>NaN</td>\n",
       "    </tr>\n",
       "  </tbody>\n",
       "</table>\n",
       "<p>5 rows × 59 columns</p>\n",
       "</div>"
      ],
      "text/plain": [
       "Hotel_name  1851 INN ON ST CHARLES  A CREOLE COTTAGE  ANTEBELLUM GUEST HOUSE  \\\n",
       "User_Id                                                                        \n",
       "1                              NaN               NaN                     NaN   \n",
       "2                              NaN               NaN                     NaN   \n",
       "3                              NaN               NaN                     NaN   \n",
       "4                              NaN               NaN                     NaN   \n",
       "5                              NaN               NaN                     NaN   \n",
       "\n",
       "Hotel_name  AULD SWEET OLIVE  BIENVILLE HOUSE MOTOR HOTEL  \\\n",
       "User_Id                                                     \n",
       "1                        NaN                          NaN   \n",
       "2                        NaN                          NaN   \n",
       "3                        NaN                          NaN   \n",
       "4                        NaN                          NaN   \n",
       "5                        NaN                          NaN   \n",
       "\n",
       "Hotel_name  Cow Hollow Inn and Suites  DAYS INN  FEDERAL CITY INN & SUITES  \\\n",
       "User_Id                                                                      \n",
       "1                                 NaN       NaN                        NaN   \n",
       "2                                 NaN       NaN                        NaN   \n",
       "3                                 NaN       NaN                        NaN   \n",
       "4                                 NaN       NaN                        NaN   \n",
       "5                                 NaN       NaN                        NaN   \n",
       "\n",
       "Hotel_name  FRENCHMEN STREET BED & BREAKFAST  Fairmont San Fracisco  \\\n",
       "User_Id                                                               \n",
       "1                                        NaN                    NaN   \n",
       "2                                        NaN                    NaN   \n",
       "3                                        NaN                    NaN   \n",
       "4                                        NaN                    NaN   \n",
       "5                                        NaN                    NaN   \n",
       "\n",
       "Hotel_name          ...           THE QUEEN ANNE HOTEL  \\\n",
       "User_Id             ...                                  \n",
       "1                   ...                            NaN   \n",
       "2                   ...                            NaN   \n",
       "3                   ...                            NaN   \n",
       "4                   ...                            NaN   \n",
       "5                   ...                            NaN   \n",
       "\n",
       "Hotel_name  THE ROOSEVELT HOTEL WAC  THE TREME INN  TIRC HOTEL  \\\n",
       "User_Id                                                          \n",
       "1                               NaN            NaN         NaN   \n",
       "2                               NaN            NaN         NaN   \n",
       "3                               NaN            NaN         NaN   \n",
       "4                               NaN            NaN         NaN   \n",
       "5                               NaN            NaN         NaN   \n",
       "\n",
       "Hotel_name  Taj Campton Place  The Inn at Union Square- A Greystone Hotel  \\\n",
       "User_Id                                                                     \n",
       "1                         NaN                                         4.0   \n",
       "2                         4.0                                         NaN   \n",
       "3                         NaN                                         NaN   \n",
       "4                         NaN                                         NaN   \n",
       "5                         NaN                                         NaN   \n",
       "\n",
       "Hotel_name  The Orchard Hotel  The Ritz Calton San Francisco  \\\n",
       "User_Id                                                        \n",
       "1                         NaN                            4.6   \n",
       "2                         5.0                            4.0   \n",
       "3                         NaN                            4.9   \n",
       "4                         3.0                            4.0   \n",
       "5                         NaN                            4.3   \n",
       "\n",
       "Hotel_name  WYNDHAM NEW ORLEANS  Warwick San Fracisco  \n",
       "User_Id                                                \n",
       "1                           NaN                   NaN  \n",
       "2                           NaN                   3.0  \n",
       "3                           NaN                   NaN  \n",
       "4                           NaN                   3.0  \n",
       "5                           NaN                   NaN  \n",
       "\n",
       "[5 rows x 59 columns]"
      ]
     },
     "execution_count": 106,
     "metadata": {},
     "output_type": "execute_result"
    }
   ],
   "source": [
    "user_hotel_rating.head() "
   ]
  },
  {
   "cell_type": "markdown",
   "metadata": {},
   "source": [
    "# To find the user ratings for 'The Ritz Calton San Francisco', execute the following script:"
   ]
  },
  {
   "cell_type": "code",
   "execution_count": 107,
   "metadata": {},
   "outputs": [],
   "source": [
    "Carlton_ratings = user_hotel_rating['The Ritz Calton San Francisco']  "
   ]
  },
  {
   "cell_type": "code",
   "execution_count": 108,
   "metadata": {},
   "outputs": [
    {
     "data": {
      "text/plain": [
       "User_Id\n",
       "1    4.6\n",
       "2    4.0\n",
       "3    4.9\n",
       "4    4.0\n",
       "5    4.3\n",
       "6    NaN\n",
       "7    4.6\n",
       "8    NaN\n",
       "9    4.0\n",
       "Name: The Ritz Calton San Francisco, dtype: float64"
      ]
     },
     "execution_count": 108,
     "metadata": {},
     "output_type": "execute_result"
    }
   ],
   "source": [
    "Carlton_ratings.head(10)"
   ]
  },
  {
   "cell_type": "code",
   "execution_count": 109,
   "metadata": {},
   "outputs": [
    {
     "data": {
      "text/plain": [
       "7"
      ]
     },
     "execution_count": 109,
     "metadata": {},
     "output_type": "execute_result"
    }
   ],
   "source": [
    "Carlton_ratings.count()"
   ]
  },
  {
   "cell_type": "markdown",
   "metadata": {},
   "source": [
    "# Now let's retrieve all the hotels that are similar to 'The Ritz Calton San Francisco'. We can find the correlation between the user ratings for the 'The Ritz Calton San Francisco' and all the other hotesls using corrwith() function as shown below:"
   ]
  },
  {
   "cell_type": "code",
   "execution_count": 110,
   "metadata": {},
   "outputs": [
    {
     "data": {
      "text/html": [
       "<div>\n",
       "<style scoped>\n",
       "    .dataframe tbody tr th:only-of-type {\n",
       "        vertical-align: middle;\n",
       "    }\n",
       "\n",
       "    .dataframe tbody tr th {\n",
       "        vertical-align: top;\n",
       "    }\n",
       "\n",
       "    .dataframe thead th {\n",
       "        text-align: right;\n",
       "    }\n",
       "</style>\n",
       "<table border=\"1\" class=\"dataframe\">\n",
       "  <thead>\n",
       "    <tr style=\"text-align: right;\">\n",
       "      <th></th>\n",
       "      <th>Correlation</th>\n",
       "    </tr>\n",
       "    <tr>\n",
       "      <th>Hotel_name</th>\n",
       "      <th></th>\n",
       "    </tr>\n",
       "  </thead>\n",
       "  <tbody>\n",
       "    <tr>\n",
       "      <th>Four Seasons Hotel San Francisco</th>\n",
       "      <td>0.613285</td>\n",
       "    </tr>\n",
       "    <tr>\n",
       "      <th>Hotel Sepro</th>\n",
       "      <td>0.209533</td>\n",
       "    </tr>\n",
       "    <tr>\n",
       "      <th>Omni San Francisco Hotel</th>\n",
       "      <td>-0.076194</td>\n",
       "    </tr>\n",
       "    <tr>\n",
       "      <th>San Francisco Marriott Marquis</th>\n",
       "      <td>0.730769</td>\n",
       "    </tr>\n",
       "    <tr>\n",
       "      <th>The Ritz Calton San Francisco</th>\n",
       "      <td>1.000000</td>\n",
       "    </tr>\n",
       "  </tbody>\n",
       "</table>\n",
       "</div>"
      ],
      "text/plain": [
       "                                  Correlation\n",
       "Hotel_name                                   \n",
       "Four Seasons Hotel San Francisco     0.613285\n",
       "Hotel Sepro                          0.209533\n",
       "Omni San Francisco Hotel            -0.076194\n",
       "San Francisco Marriott Marquis       0.730769\n",
       "The Ritz Calton San Francisco        1.000000"
      ]
     },
     "execution_count": 110,
     "metadata": {},
     "output_type": "execute_result"
    }
   ],
   "source": [
    "hotels_like_Carlton = user_hotel_rating.corrwith(Carlton_ratings)\n",
    "\n",
    "corr_Carlton_Hotel = pd.DataFrame(hotels_like_Carlton, columns=['Correlation'])\n",
    "corr_Carlton_Hotel.dropna(inplace=True)  \n",
    "corr_Carlton_Hotel.head()  "
   ]
  },
  {
   "cell_type": "markdown",
   "metadata": {},
   "source": [
    "# Conclusion: As we can see in the above result 'San Francisco Marriott Marquis' hotel is highly correlated with \"'The Ritz Calton San Francisco'. The same user has given ratings  above '4.5' for these hotels and the negative correlation states that it is completly opposite of what guest is looking(ratings should be less) "
   ]
  },
  {
   "cell_type": "code",
   "execution_count": null,
   "metadata": {},
   "outputs": [],
   "source": []
  }
 ],
 "metadata": {
  "kernelspec": {
   "display_name": "Python 3",
   "language": "python",
   "name": "python3"
  },
  "language_info": {
   "codemirror_mode": {
    "name": "ipython",
    "version": 3
   },
   "file_extension": ".py",
   "mimetype": "text/x-python",
   "name": "python",
   "nbconvert_exporter": "python",
   "pygments_lexer": "ipython3",
   "version": "3.6.6"
  }
 },
 "nbformat": 4,
 "nbformat_minor": 2
}
